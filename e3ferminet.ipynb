{
 "cells": [
  {
   "cell_type": "markdown",
   "id": "a82b8824-c759-45d6-b7b6-f28d2d47d82b",
   "metadata": {},
   "source": [
    "# e3ferminet\n",
    "E(3)-equivariant neural network ansatz for molecular VMC calculations"
   ]
  },
  {
   "cell_type": "markdown",
   "id": "c7df8af5-7365-4955-95ce-86b98d16448f",
   "metadata": {
    "tags": []
   },
   "source": [
    "## Single atom wavefunction\n",
    "Let's first study a single atom of atomic number $Z$. For $n$ electrons, the Hamiltonian is\n",
    "$$\n",
    "\\hat H = -\\frac{1}{2} \\sum_i \\nabla_i^2 - \\sum_i \\frac{Z}{r_i} + \\sum_{i<j} \\frac{1}{|\\mathbf r_i - \\mathbf r_j|}.\n",
    "$$\n",
    "We'll parameterize the multi-electron wavefunction $\\psi(\\mathbf r_1, \\ldots, \\mathbf r_n)$ with a neural network $\\phi_\\theta(\\mathbf r_1, \\ldots, \\mathbf r_n)$ that is equivariant in each input $\\mathbf r_i$, where we obtain $\\psi$ by antisymmetrizing $\\phi_\\theta$:\n",
    "$$\n",
    "\\psi(\\mathbf r_i, \\ldots, \\mathbf r_n) = \\sum_{\\sigma \\in S(n_\\uparrow) \\times S(n_\\downarrow)} \\mathrm{sgn}(\\sigma) \\phi_\\theta(\\mathbf r_{\\sigma(1)}, \\ldots, \\mathbf r_{\\sigma(n)}).\n",
    "$$\n",
    "The sum is over all products of permutations of $n_\\uparrow$ spin-up electrons with permutations of $n_\\downarrow$ spin-down electrons, where $n_\\uparrow + n_\\downarrow = n$, where WLOG we label the spin-up electrons as $1, \\ldots, n_\\uparrow$ and the spin-down electrons as $n_\\uparrow + 1, \\ldots, n$.\n"
   ]
  },
  {
   "cell_type": "markdown",
   "id": "bdf9df02-d43f-46dc-94d9-6ee14786907e",
   "metadata": {
    "tags": []
   },
   "source": [
    "# Molecules with multiple atoms"
   ]
  }
 ],
 "metadata": {
  "kernelspec": {
   "display_name": "Python 3 (ipykernel)",
   "language": "python",
   "name": "python3"
  },
  "language_info": {
   "codemirror_mode": {
    "name": "ipython",
    "version": 3
   },
   "file_extension": ".py",
   "mimetype": "text/x-python",
   "name": "python",
   "nbconvert_exporter": "python",
   "pygments_lexer": "ipython3",
   "version": "3.11.2"
  }
 },
 "nbformat": 4,
 "nbformat_minor": 5
}
