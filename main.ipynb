{
 "cells": [
  {
   "cell_type": "code",
   "execution_count": 1,
   "id": "a341ce2b-40f1-4147-8f05-62dda9af6e93",
   "metadata": {
    "tags": []
   },
   "outputs": [
    {
     "name": "stderr",
     "output_type": "stream",
     "text": [
      "\u001b[34m\u001b[1mwandb\u001b[0m: Currently logged in as: \u001b[33mzli11010\u001b[0m. Use \u001b[1m`wandb login --relogin`\u001b[0m to force relogin\n"
     ]
    },
    {
     "data": {
      "text/plain": [
       "True"
      ]
     },
     "execution_count": 1,
     "metadata": {},
     "output_type": "execute_result"
    }
   ],
   "source": [
    "!pip install wandb -qqq\n",
    "import wandb\n",
    "wandb.login()"
   ]
  },
  {
   "cell_type": "code",
   "execution_count": 2,
   "id": "7a81dca1-a238-473d-aad2-962e19361d86",
   "metadata": {
    "tags": []
   },
   "outputs": [
    {
     "name": "stdout",
     "output_type": "stream",
     "text": [
      "0.4.8\n",
      "0.6.8\n",
      "0.1.4\n",
      "0.17.3\n",
      "gpu:0\n",
      "0.4.8\n",
      "0.6.8\n",
      "0.1.4\n",
      "0.17.3\n",
      "gpu:0\n"
     ]
    }
   ],
   "source": [
    "import jax\n",
    "import optax\n",
    "from train import E3FerminetAtom"
   ]
  },
  {
   "cell_type": "code",
   "execution_count": 3,
   "id": "ae7ffb54-0ab5-421f-b88d-3bf0f94a4b92",
   "metadata": {
    "tags": []
   },
   "outputs": [
    {
     "data": {
      "text/html": [
       "Tracking run with wandb version 0.15.1"
      ],
      "text/plain": [
       "<IPython.core.display.HTML object>"
      ]
     },
     "metadata": {},
     "output_type": "display_data"
    },
    {
     "data": {
      "text/html": [
       "Run data is saved locally in <code>/scratch/zli11010/e3ferminet/wandb/run-20230504_161531-tx6ak7v5</code>"
      ],
      "text/plain": [
       "<IPython.core.display.HTML object>"
      ]
     },
     "metadata": {},
     "output_type": "display_data"
    },
    {
     "data": {
      "text/html": [
       "Syncing run <strong><a href='https://wandb.ai/zli11010/e3ferminet/runs/tx6ak7v5' target=\"_blank\">sith-wookie-14</a></strong> to <a href='https://wandb.ai/zli11010/e3ferminet' target=\"_blank\">Weights & Biases</a> (<a href='https://wandb.me/run' target=\"_blank\">docs</a>)<br/>"
      ],
      "text/plain": [
       "<IPython.core.display.HTML object>"
      ]
     },
     "metadata": {},
     "output_type": "display_data"
    },
    {
     "data": {
      "text/html": [
       " View project at <a href='https://wandb.ai/zli11010/e3ferminet' target=\"_blank\">https://wandb.ai/zli11010/e3ferminet</a>"
      ],
      "text/plain": [
       "<IPython.core.display.HTML object>"
      ]
     },
     "metadata": {},
     "output_type": "display_data"
    },
    {
     "data": {
      "text/html": [
       " View run at <a href='https://wandb.ai/zli11010/e3ferminet/runs/tx6ak7v5' target=\"_blank\">https://wandb.ai/zli11010/e3ferminet/runs/tx6ak7v5</a>"
      ],
      "text/plain": [
       "<IPython.core.display.HTML object>"
      ]
     },
     "metadata": {},
     "output_type": "display_data"
    },
    {
     "data": {
      "text/html": [
       "<button onClick=\"this.nextSibling.style.display='block';this.style.display='none';\">Display W&B run</button><iframe src='https://wandb.ai/zli11010/e3ferminet/runs/tx6ak7v5?jupyter=true' style='border:none;width:100%;height:420px;display:none;'></iframe>"
      ],
      "text/plain": [
       "<wandb.sdk.wandb_run.Run at 0x7f80852ebdd0>"
      ]
     },
     "execution_count": 3,
     "metadata": {},
     "output_type": "execute_result"
    }
   ],
   "source": [
    "max_r_helium = 2\n",
    "helium_config = {\n",
    "    \"random_seed\": 0,\n",
    "    \"Z\": 2,\n",
    "    \"N_up\": 1,\n",
    "    \"N_down\": 1,\n",
    "    # \"batch_size\": 2000,\n",
    "    # \"num_batches\": 25,\n",
    "    \"batch_size\": 128,\n",
    "    \"num_batches\": 100000,\n",
    "    \"validate_every\": 2000,\n",
    "    \"patience\": None,\n",
    "    \"lr\": optax.warmup_cosine_decay_schedule(5e-5, 5e-4, 100, 100000, end_value=5e-6),\n",
    "    # \"sampling_dist\": lambda coords: 1,\n",
    "    # \"sampler\": lambda random_key, Z, num_samples: jax.random.ball(random_key, 3, shape=(num_samples, Z)).reshape((num_samples, -1)) * max_r_helium,\n",
    "    \"sampling_dist\" : None,\n",
    "    \"sampler\" : None,\n",
    "    \"ansatz\": {},\n",
    "    \"MH\": {\n",
    "        \"stdev\": 0.2,\n",
    "        \"warmup\": 500,\n",
    "        \"interval\": 10,\n",
    "        \"batch_size\": 64\n",
    "    }\n",
    "    # \"regularize\": {\n",
    "    #     \"max_r\": max_r_helium,\n",
    "    #     \"regularize_pow\": 8,\n",
    "    #     \"regularize_coeff\": 0,\n",
    "    # }\n",
    "}\n",
    "\n",
    "wandb.init(project=\"e3ferminet\", config=helium_config)"
   ]
  },
  {
   "cell_type": "code",
   "execution_count": null,
   "id": "51a75371-2555-4ae5-841f-4c2237052328",
   "metadata": {},
   "outputs": [
    {
     "data": {
      "text/html": [
       "<iframe src='https://wandb.ai/zli11010/e3ferminet/runs/tx6ak7v5?jupyter=true' style='border:none;width:100%;height:420px;'></iframe>"
      ],
      "text/plain": [
       "<wandb.jupyter.IFrame at 0x7f800006cdd0>"
      ]
     },
     "metadata": {},
     "output_type": "display_data"
    },
    {
     "name": "stdout",
     "output_type": "stream",
     "text": [
      "25x0e+5x1e+5x1o+5x2e+5x2o\n"
     ]
    },
    {
     "name": "stderr",
     "output_type": "stream",
     "text": [
      " 46%|███████████████████████████████████████▊                                               | 45793/100000 [53:36<1:10:36, 12.79it/s]"
     ]
    }
   ],
   "source": [
    "%%wandb\n",
    "\n",
    "atom_model = E3FerminetAtom(helium_config)\n",
    "atom_model.train_loop()\n",
    "atom_model.choose_weights(\"last\")\n",
    "atom_model.test()\n",
    "atom_model.plot_one_electron_radial(4)"
   ]
  },
  {
   "cell_type": "code",
   "execution_count": null,
   "id": "ab2d3dfd-d4e8-465f-bac5-d0337e21f3e1",
   "metadata": {},
   "outputs": [],
   "source": []
  }
 ],
 "metadata": {
  "kernelspec": {
   "display_name": "Python 3 (ipykernel)",
   "language": "python",
   "name": "python3"
  },
  "language_info": {
   "codemirror_mode": {
    "name": "ipython",
    "version": 3
   },
   "file_extension": ".py",
   "mimetype": "text/x-python",
   "name": "python",
   "nbconvert_exporter": "python",
   "pygments_lexer": "ipython3",
   "version": "3.11.2"
  }
 },
 "nbformat": 4,
 "nbformat_minor": 5
}
